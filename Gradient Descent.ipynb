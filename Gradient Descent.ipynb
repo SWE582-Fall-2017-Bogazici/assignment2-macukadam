{
 "cells": [
  {
   "cell_type": "code",
   "execution_count": 13,
   "metadata": {
    "collapsed": true
   },
   "outputs": [],
   "source": [
    "%matplotlib inline\n",
    "import matplotlib.pylab as plt\n",
    "\n",
    "import time\n",
    "from IPython import display\n",
    "import numpy as np\n",
    "\n",
    "y = np.array([8.04, 6.95, 7.58, 8.81, 8.33, 9.96, 7.24, 4.26, 10.84, 4.82, 5.68])\n",
    "x = np.array([10., 8., 13., 9., 11., 14., 6., 4., 12., 7., 5.])\n",
    "N = len(x)\n",
    "\n",
    "# Design matrix\n",
    "A = np.vstack((np.ones(N), x, x**2, x**3)).T\n",
    "\n",
    "# Learning rate\n",
    "eta = 0.000001\n",
    "              \n",
    "# initial parameters\n",
    "w = np.array([2., 1.,0.1, 0.001])"
   ]
  },
  {
   "cell_type": "code",
   "execution_count": 14,
   "metadata": {
    "collapsed": true
   },
   "outputs": [],
   "source": [
    "def GradientCalculation(eta, A ,w, y):\n",
    "    beta = 0.99  \n",
    "    p = 0\n",
    "    for epoch in range(1000):        \n",
    "        err = y-A.dot(w)    \n",
    "        E = np.sum(err**2)/N\n",
    "        dE = -2.*A.T.dot(err)/N\n",
    "        p = dE + beta*p\n",
    "        w = w - eta*p    \n",
    "    return E"
   ]
  },
  {
   "cell_type": "code",
   "execution_count": 15,
   "metadata": {},
   "outputs": [
    {
     "name": "stdout",
     "output_type": "stream",
     "text": [
      "0 - E :  1.26501916226  eta :  9.166666666666667e-07\n",
      "20 - E :  1.24489471787  eta :  6.690732897292729e-07\n",
      "40 - E :  1.26224166163  eta :  1.2186143561446393e-07\n",
      "60 - E :  1.25831527921  eta :  8.894643449203781e-08\n",
      "80 - E :  1.27396425048  eta :  3.726000722218694e-08\n",
      "\n",
      "Minimum E:  1.23809733079 Optimal eta:  1.109166666666667e-06\n"
     ]
    }
   ],
   "source": [
    "etaOptimum = eta \n",
    "firstE = GradientCalculation(eta, A ,w, y)\n",
    "eta = eta *1.1    \n",
    "nextE = GradientCalculation(eta, A ,w, y)\n",
    "\n",
    "Emin = 0\n",
    "\n",
    "for i in range(100):\n",
    "    if firstE <= nextE:\n",
    "        eta = eta / 1.2\n",
    "    else:\n",
    "        eta = eta *1.1\n",
    "        if Emin > nextE: \n",
    "            etaOptimum = eta\n",
    "            Emin = nextE\n",
    "        if Emin == 0:\n",
    "            etaOptimum = eta\n",
    "            Emin = nextE\n",
    "    firstE = nextE\n",
    "    nextE = GradientCalculation(eta, A ,w, y)\n",
    "    if i % 20 == 0: \n",
    "        print(i,'- E : ',nextE, \" eta : \", eta)\n",
    "    \n",
    "print(\"\")\n",
    "print ( \"Minimum E: \", Emin ,\"Optimal eta: \", etaOptimum)"
   ]
  },
  {
   "cell_type": "code",
   "execution_count": null,
   "metadata": {
    "collapsed": true
   },
   "outputs": [],
   "source": []
  }
 ],
 "metadata": {
  "kernelspec": {
   "display_name": "Python 3",
   "language": "python",
   "name": "python3"
  },
  "language_info": {
   "codemirror_mode": {
    "name": "ipython",
    "version": 3
   },
   "file_extension": ".py",
   "mimetype": "text/x-python",
   "name": "python",
   "nbconvert_exporter": "python",
   "pygments_lexer": "ipython3",
   "version": "3.6.2"
  }
 },
 "nbformat": 4,
 "nbformat_minor": 2
}
