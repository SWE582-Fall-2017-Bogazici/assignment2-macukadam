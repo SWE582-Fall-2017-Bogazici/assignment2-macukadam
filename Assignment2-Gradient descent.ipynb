{
 "cells": [
  {
   "cell_type": "code",
   "execution_count": 6,
   "metadata": {
    "collapsed": true
   },
   "outputs": [],
   "source": [
    "def grad(eta, w, y, A):\n",
    "    beta= 0.99\n",
    "    p= 0\n",
    "    for epoch in range(1000):\n",
    "    # Error\n",
    "        err = y-A.dot(w)\n",
    "    \n",
    "    # Total error\n",
    "        E = np.sum(err**2)/N\n",
    "    \n",
    "    # Gradient\n",
    "        dE = -2.*A.T.dot(err)/N\n",
    "        p= dE + beta*p\n",
    "        w = w - eta*p\n",
    "    \n",
    "    return E\n"
   ]
  },
  {
   "cell_type": "code",
   "execution_count": 7,
   "metadata": {},
   "outputs": [
    {
     "name": "stdout",
     "output_type": "stream",
     "text": [
      "0 : 1.26250183261\n",
      "5 : 7.61604513343\n",
      "10 : 9.00343772712\n",
      "15 : 89.4174258751\n",
      "20 : 245.671600024\n",
      "25 : 253.368010727\n",
      "30 : 253.612142989\n",
      "35 : 253.619775689\n",
      "40 : 253.620014215\n",
      "45 : 253.620021669\n",
      "50 : 253.620021902\n",
      "55 : 253.620021909\n",
      "60 : 253.620021909\n",
      "65 : 253.620021909\n",
      "70 : 253.620021909\n",
      "75 : 253.620021909\n",
      "80 : 253.620021909\n",
      "85 : 253.620021909\n",
      "90 : 253.620021909\n",
      "95 : 253.620021909\n",
      "Eta in Minimum E= 5.5e-08 Minimum E= 1.26213645254\n"
     ]
    }
   ],
   "source": [
    "import time\n",
    "from IPython import display\n",
    "import numpy as np\n",
    "\n",
    "y = np.array([8.04, 6.95, 7.58, 8.81, 8.33, 9.96, 7.24, 4.26, 10.84, 4.82, 5.68])\n",
    "x = np.array([10., 8., 13., 9., 11., 14., 6., 4., 12., 7., 5.])\n",
    "N = len(x)\n",
    "\n",
    "# Design matrix\n",
    "A = np.vstack((np.ones(N), x, x**2, x**3)).T\n",
    "\n",
    "# initial parameters\n",
    "w = np.array([2., 1.,0.1, 0.001])\n",
    "\n",
    "# grad is a function which uses Grand Descent method with momentum\n",
    "eta= 0.0000001\n",
    "Efirst= grad(eta, w, y, A)\n",
    "\n",
    "eta= eta*1.1\n",
    "Enext= grad (eta, w, y, A)\n",
    "minE=400\n",
    "mineta=0\n",
    "for epoch in range(100):\n",
    "        \n",
    "    if Efirst<=Enext:\n",
    "        eta= eta/2\n",
    "    else:\n",
    "        eta= eta*1.1\n",
    "    if minE>=Enext:\n",
    "            minE = Enext\n",
    "            mineta= eta\n",
    "            \n",
    "    Efirst= Enext\n",
    "    Enext = grad(eta, w, y, A)\n",
    "    \n",
    "    if epoch%5 == 0: \n",
    "        print(epoch,':',Enext)\n",
    "print(\"Eta in Minimum E=\", mineta, \"Minimum E=\", minE)"
   ]
  }
 ],
 "metadata": {
  "kernelspec": {
   "display_name": "Python 3",
   "language": "python",
   "name": "python3"
  },
  "language_info": {
   "codemirror_mode": {
    "name": "ipython",
    "version": 3
   },
   "file_extension": ".py",
   "mimetype": "text/x-python",
   "name": "python",
   "nbconvert_exporter": "python",
   "pygments_lexer": "ipython3",
   "version": "3.6.2"
  }
 },
 "nbformat": 4,
 "nbformat_minor": 2
}
